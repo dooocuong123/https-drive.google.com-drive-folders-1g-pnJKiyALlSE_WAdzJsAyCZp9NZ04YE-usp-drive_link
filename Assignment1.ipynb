{
 "cells": [
  {
   "cell_type": "code",
   "execution_count": 15,
   "metadata": {},
   "outputs": [],
   "source": [
    "#!pip install ipython-sql\n",
    "import sqlite3\n",
    "import pandas as pd"
   ]
  },
  {
   "cell_type": "code",
   "execution_count": 16,
   "metadata": {},
   "outputs": [
    {
     "name": "stdout",
     "output_type": "stream",
     "text": [
      "The sql extension is already loaded. To reload it, use:\n",
      "  %reload_ext sql\n"
     ]
    }
   ],
   "source": [
    "%load_ext sql"
   ]
  },
  {
   "cell_type": "code",
   "execution_count": 17,
   "metadata": {},
   "outputs": [],
   "source": [
    "%sql sqlite:///Assignment.db"
   ]
  },
  {
   "cell_type": "code",
   "execution_count": 18,
   "metadata": {},
   "outputs": [],
   "source": [
    "conn = sqlite3.connect(\"Assignment.db\")"
   ]
  },
  {
   "cell_type": "markdown",
   "metadata": {},
   "source": [
    "# Chicago Crime Dataset"
   ]
  },
  {
   "cell_type": "code",
   "execution_count": 19,
   "metadata": {},
   "outputs": [],
   "source": [
    "df = pd.read_csv('./Chicago_Crime.csv')"
   ]
  },
  {
   "cell_type": "code",
   "execution_count": 20,
   "metadata": {},
   "outputs": [
    {
     "data": {
      "text/plain": [
       "8177858"
      ]
     },
     "execution_count": 20,
     "metadata": {},
     "output_type": "execute_result"
    }
   ],
   "source": [
    "df.to_sql(\"Chicago_Crime_table\", con = conn, if_exists= 'replace')"
   ]
  },
  {
   "cell_type": "markdown",
   "metadata": {},
   "source": [
    "Problem 1: Find the total number of crimes recorded in the CRIME table."
   ]
  },
  {
   "cell_type": "code",
   "execution_count": 21,
   "metadata": {},
   "outputs": [
    {
     "name": "stdout",
     "output_type": "stream",
     "text": [
      " * sqlite:///Assignment.db\n",
      "Done.\n"
     ]
    },
    {
     "data": {
      "text/html": [
       "<table>\n",
       "    <thead>\n",
       "        <tr>\n",
       "            <th>TotalCrimes</th>\n",
       "        </tr>\n",
       "    </thead>\n",
       "    <tbody>\n",
       "        <tr>\n",
       "            <td>8177858</td>\n",
       "        </tr>\n",
       "    </tbody>\n",
       "</table>"
      ],
      "text/plain": [
       "[(8177858,)]"
      ]
     },
     "execution_count": 21,
     "metadata": {},
     "output_type": "execute_result"
    }
   ],
   "source": [
    "%%sql\n",
    "\n",
    "SELECT COUNT(*) AS TotalCrimes\n",
    "FROM Chicago_Crime_table"
   ]
  },
  {
   "cell_type": "markdown",
   "metadata": {},
   "source": [
    "Problem 3: List all case numbers for crimes involving minors?"
   ]
  },
  {
   "cell_type": "code",
   "execution_count": 22,
   "metadata": {},
   "outputs": [
    {
     "name": "stdout",
     "output_type": "stream",
     "text": [
      " * sqlite:///Assignment.db\n",
      "Done.\n"
     ]
    },
    {
     "data": {
      "text/html": [
       "<table>\n",
       "    <thead>\n",
       "        <tr>\n",
       "            <th>index</th>\n",
       "            <th>ID</th>\n",
       "            <th>Case Number</th>\n",
       "            <th>Date</th>\n",
       "            <th>Block</th>\n",
       "            <th>IUCR</th>\n",
       "            <th>Primary Type</th>\n",
       "            <th>Description</th>\n",
       "            <th>Location Description</th>\n",
       "            <th>Arrest</th>\n",
       "            <th>Domestic</th>\n",
       "            <th>Beat</th>\n",
       "            <th>District</th>\n",
       "            <th>Ward</th>\n",
       "            <th>Community Area</th>\n",
       "            <th>FBI Code</th>\n",
       "            <th>X Coordinate</th>\n",
       "            <th>Y Coordinate</th>\n",
       "            <th>Year</th>\n",
       "            <th>Updated On</th>\n",
       "            <th>Latitude</th>\n",
       "            <th>Longitude</th>\n",
       "            <th>Location</th>\n",
       "        </tr>\n",
       "    </thead>\n",
       "    <tbody>\n",
       "        <tr>\n",
       "            <td>4</td>\n",
       "            <td>13274752</td>\n",
       "            <td>JG501049</td>\n",
       "            <td>11/12/2023 07:59:00 AM</td>\n",
       "            <td>086XX S COTTAGE GROVE AVE</td>\n",
       "            <td>0454</td>\n",
       "            <td>BATTERY</td>\n",
       "            <td>AGGRAVATED P.O. - HANDS, FISTS, FEET, NO / MINOR INJURY</td>\n",
       "            <td>SMALL RETAIL STORE</td>\n",
       "            <td>1</td>\n",
       "            <td>0</td>\n",
       "            <td>632</td>\n",
       "            <td>6.0</td>\n",
       "            <td>6.0</td>\n",
       "            <td>44.0</td>\n",
       "            <td>08B</td>\n",
       "            <td>1183071.0</td>\n",
       "            <td>1847869.0</td>\n",
       "            <td>2023</td>\n",
       "            <td>12/09/2023 03:41:24 PM</td>\n",
       "            <td>41.737750767</td>\n",
       "            <td>-87.604855911</td>\n",
       "            <td>(41.737750767, -87.604855911)</td>\n",
       "        </tr>\n",
       "        <tr>\n",
       "            <td>58</td>\n",
       "            <td>12589893</td>\n",
       "            <td>JF109865</td>\n",
       "            <td>01/11/2022 03:00:00 PM</td>\n",
       "            <td>087XX S KINGSTON AVE</td>\n",
       "            <td>1541</td>\n",
       "            <td>OBSCENITY</td>\n",
       "            <td>SALE / DISTRIBUTE OBSCENE MATERIAL TO MINOR</td>\n",
       "            <td>RESIDENCE</td>\n",
       "            <td>0</td>\n",
       "            <td>1</td>\n",
       "            <td>423</td>\n",
       "            <td>4.0</td>\n",
       "            <td>7.0</td>\n",
       "            <td>46.0</td>\n",
       "            <td>26</td>\n",
       "            <td>1194660.0</td>\n",
       "            <td>1847481.0</td>\n",
       "            <td>2022</td>\n",
       "            <td>06/17/2024 03:41:13 PM</td>\n",
       "            <td>41.736409029</td>\n",
       "            <td>-87.562410309</td>\n",
       "            <td>(41.736409029, -87.562410309)</td>\n",
       "        </tr>\n",
       "        <tr>\n",
       "            <td>69</td>\n",
       "            <td>13189895</td>\n",
       "            <td>JG399264</td>\n",
       "            <td>08/27/2023 01:16:00 AM</td>\n",
       "            <td>048XX N KIMBALL AVE</td>\n",
       "            <td>0454</td>\n",
       "            <td>BATTERY</td>\n",
       "            <td>AGGRAVATED P.O. - HANDS, FISTS, FEET, NO / MINOR INJURY</td>\n",
       "            <td>STREET</td>\n",
       "            <td>1</td>\n",
       "            <td>0</td>\n",
       "            <td>1712</td>\n",
       "            <td>17.0</td>\n",
       "            <td>33.0</td>\n",
       "            <td>14.0</td>\n",
       "            <td>08B</td>\n",
       "            <td>1152841.0</td>\n",
       "            <td>1931987.0</td>\n",
       "            <td>2023</td>\n",
       "            <td>09/14/2023 03:41:59 PM</td>\n",
       "            <td>41.969229299</td>\n",
       "            <td>-87.713386363</td>\n",
       "            <td>(41.969229299, -87.713386363)</td>\n",
       "        </tr>\n",
       "        <tr>\n",
       "            <td>78</td>\n",
       "            <td>13196606</td>\n",
       "            <td>JG407589</td>\n",
       "            <td>09/02/2023 12:35:00 AM</td>\n",
       "            <td>021XX W DIVISION ST</td>\n",
       "            <td>0454</td>\n",
       "            <td>BATTERY</td>\n",
       "            <td>AGGRAVATED P.O. - HANDS, FISTS, FEET, NO / MINOR INJURY</td>\n",
       "            <td>STREET</td>\n",
       "            <td>1</td>\n",
       "            <td>0</td>\n",
       "            <td>1424</td>\n",
       "            <td>14.0</td>\n",
       "            <td>1.0</td>\n",
       "            <td>24.0</td>\n",
       "            <td>08B</td>\n",
       "            <td>1161836.0</td>\n",
       "            <td>1907964.0</td>\n",
       "            <td>2023</td>\n",
       "            <td>09/14/2023 03:41:59 PM</td>\n",
       "            <td>41.903125362</td>\n",
       "            <td>-87.680983903</td>\n",
       "            <td>(41.903125362, -87.680983903)</td>\n",
       "        </tr>\n",
       "        <tr>\n",
       "            <td>597</td>\n",
       "            <td>13203875</td>\n",
       "            <td>JG414990</td>\n",
       "            <td>09/06/2023 12:23:00 PM</td>\n",
       "            <td>073XX N WASHTENAW AVE</td>\n",
       "            <td>0484</td>\n",
       "            <td>BATTERY</td>\n",
       "            <td>PROTECTED EMPLOYEE - HANDS, FISTS, FEET, NO / MINOR INJURY</td>\n",
       "            <td>SCHOOL - PUBLIC BUILDING</td>\n",
       "            <td>0</td>\n",
       "            <td>0</td>\n",
       "            <td>2411</td>\n",
       "            <td>24.0</td>\n",
       "            <td>50.0</td>\n",
       "            <td>2.0</td>\n",
       "            <td>08B</td>\n",
       "            <td>1157092.0</td>\n",
       "            <td>1948758.0</td>\n",
       "            <td>2023</td>\n",
       "            <td>09/14/2023 03:43:09 PM</td>\n",
       "            <td>42.015164168</td>\n",
       "            <td>-87.697297389</td>\n",
       "            <td>(42.015164168, -87.697297389)</td>\n",
       "        </tr>\n",
       "    </tbody>\n",
       "</table>"
      ],
      "text/plain": [
       "[(4, 13274752, 'JG501049', '11/12/2023 07:59:00 AM', '086XX S COTTAGE GROVE AVE', '0454', 'BATTERY', 'AGGRAVATED P.O. - HANDS, FISTS, FEET, NO / MINOR INJURY', 'SMALL RETAIL STORE', 1, 0, 632, 6.0, 6.0, 44.0, '08B', 1183071.0, 1847869.0, 2023, '12/09/2023 03:41:24 PM', 41.737750767, -87.604855911, '(41.737750767, -87.604855911)'),\n",
       " (58, 12589893, 'JF109865', '01/11/2022 03:00:00 PM', '087XX S KINGSTON AVE', '1541', 'OBSCENITY', 'SALE / DISTRIBUTE OBSCENE MATERIAL TO MINOR', 'RESIDENCE', 0, 1, 423, 4.0, 7.0, 46.0, '26', 1194660.0, 1847481.0, 2022, '06/17/2024 03:41:13 PM', 41.736409029, -87.562410309, '(41.736409029, -87.562410309)'),\n",
       " (69, 13189895, 'JG399264', '08/27/2023 01:16:00 AM', '048XX N KIMBALL AVE', '0454', 'BATTERY', 'AGGRAVATED P.O. - HANDS, FISTS, FEET, NO / MINOR INJURY', 'STREET', 1, 0, 1712, 17.0, 33.0, 14.0, '08B', 1152841.0, 1931987.0, 2023, '09/14/2023 03:41:59 PM', 41.969229299, -87.713386363, '(41.969229299, -87.713386363)'),\n",
       " (78, 13196606, 'JG407589', '09/02/2023 12:35:00 AM', '021XX W DIVISION ST', '0454', 'BATTERY', 'AGGRAVATED P.O. - HANDS, FISTS, FEET, NO / MINOR INJURY', 'STREET', 1, 0, 1424, 14.0, 1.0, 24.0, '08B', 1161836.0, 1907964.0, 2023, '09/14/2023 03:41:59 PM', 41.903125362, -87.680983903, '(41.903125362, -87.680983903)'),\n",
       " (597, 13203875, 'JG414990', '09/06/2023 12:23:00 PM', '073XX N WASHTENAW AVE', '0484', 'BATTERY', 'PROTECTED EMPLOYEE - HANDS, FISTS, FEET, NO / MINOR INJURY', 'SCHOOL - PUBLIC BUILDING', 0, 0, 2411, 24.0, 50.0, 2.0, '08B', 1157092.0, 1948758.0, 2023, '09/14/2023 03:43:09 PM', 42.015164168, -87.697297389, '(42.015164168, -87.697297389)')]"
      ]
     },
     "execution_count": 22,
     "metadata": {},
     "output_type": "execute_result"
    }
   ],
   "source": [
    "%%sql\n",
    "\n",
    "SELECT *\n",
    "FROM Chicago_Crime_table\n",
    "WHERE description LIKE '%MINOR%'\n",
    "LIMIT 5;"
   ]
  },
  {
   "cell_type": "markdown",
   "metadata": {},
   "source": [
    "#Remove LIMIT 5 TO LIST ALL"
   ]
  },
  {
   "cell_type": "markdown",
   "metadata": {},
   "source": [
    "Problem 4: List all kidnapping crimes involving a child?(children are not considered minors for the purposes of crime analysis)"
   ]
  },
  {
   "cell_type": "code",
   "execution_count": 23,
   "metadata": {},
   "outputs": [
    {
     "name": "stdout",
     "output_type": "stream",
     "text": [
      " * sqlite:///Assignment.db\n",
      "Done.\n"
     ]
    },
    {
     "data": {
      "text/html": [
       "<table>\n",
       "    <thead>\n",
       "        <tr>\n",
       "            <th>index</th>\n",
       "            <th>ID</th>\n",
       "            <th>Case Number</th>\n",
       "            <th>Date</th>\n",
       "            <th>Block</th>\n",
       "            <th>IUCR</th>\n",
       "            <th>Primary Type</th>\n",
       "            <th>Description</th>\n",
       "            <th>Location Description</th>\n",
       "            <th>Arrest</th>\n",
       "            <th>Domestic</th>\n",
       "            <th>Beat</th>\n",
       "            <th>District</th>\n",
       "            <th>Ward</th>\n",
       "            <th>Community Area</th>\n",
       "            <th>FBI Code</th>\n",
       "            <th>X Coordinate</th>\n",
       "            <th>Y Coordinate</th>\n",
       "            <th>Year</th>\n",
       "            <th>Updated On</th>\n",
       "            <th>Latitude</th>\n",
       "            <th>Longitude</th>\n",
       "            <th>Location</th>\n",
       "        </tr>\n",
       "    </thead>\n",
       "    <tbody>\n",
       "        <tr>\n",
       "            <td>3313</td>\n",
       "            <td>13204305</td>\n",
       "            <td>JG416635</td>\n",
       "            <td>09/08/2023 04:50:00 PM</td>\n",
       "            <td>078XX S VERNON AVE</td>\n",
       "            <td>1792</td>\n",
       "            <td>KIDNAPPING</td>\n",
       "            <td>CHILD ABDUCTION / STRANGER</td>\n",
       "            <td>STREET</td>\n",
       "            <td>0</td>\n",
       "            <td>0</td>\n",
       "            <td>624</td>\n",
       "            <td>6.0</td>\n",
       "            <td>6.0</td>\n",
       "            <td>69.0</td>\n",
       "            <td>26</td>\n",
       "            <td>1180599.0</td>\n",
       "            <td>1853225.0</td>\n",
       "            <td>2023</td>\n",
       "            <td>09/16/2023 03:42:58 PM</td>\n",
       "            <td>41.752505303</td>\n",
       "            <td>-87.613748496</td>\n",
       "            <td>(41.752505303, -87.613748496)</td>\n",
       "        </tr>\n",
       "        <tr>\n",
       "            <td>24338</td>\n",
       "            <td>13229965</td>\n",
       "            <td>JG447224</td>\n",
       "            <td>09/11/2023 03:30:00 PM</td>\n",
       "            <td>002XX E 44TH ST</td>\n",
       "            <td>1792</td>\n",
       "            <td>KIDNAPPING</td>\n",
       "            <td>CHILD ABDUCTION / STRANGER</td>\n",
       "            <td>SIDEWALK</td>\n",
       "            <td>0</td>\n",
       "            <td>0</td>\n",
       "            <td>215</td>\n",
       "            <td>2.0</td>\n",
       "            <td>3.0</td>\n",
       "            <td>38.0</td>\n",
       "            <td>26</td>\n",
       "            <td>1178445.0</td>\n",
       "            <td>1875893.0</td>\n",
       "            <td>2023</td>\n",
       "            <td>10/04/2023 03:41:32 PM</td>\n",
       "            <td>41.814757721</td>\n",
       "            <td>-87.620953719</td>\n",
       "            <td>(41.814757721, -87.620953719)</td>\n",
       "        </tr>\n",
       "        <tr>\n",
       "            <td>48012</td>\n",
       "            <td>13596650</td>\n",
       "            <td>JH427406</td>\n",
       "            <td>09/13/2024 03:34:00 PM</td>\n",
       "            <td>112XX S ADA ST</td>\n",
       "            <td>1792</td>\n",
       "            <td>KIDNAPPING</td>\n",
       "            <td>CHILD ABDUCTION / STRANGER</td>\n",
       "            <td>PARK PROPERTY</td>\n",
       "            <td>0</td>\n",
       "            <td>0</td>\n",
       "            <td>2234</td>\n",
       "            <td>22.0</td>\n",
       "            <td>21.0</td>\n",
       "            <td>75.0</td>\n",
       "            <td>26</td>\n",
       "            <td>1169344.0</td>\n",
       "            <td>1830008.0</td>\n",
       "            <td>2024</td>\n",
       "            <td>09/27/2024 03:40:30 PM</td>\n",
       "            <td>41.689045293</td>\n",
       "            <td>-87.655662965</td>\n",
       "            <td>(41.689045293, -87.655662965)</td>\n",
       "        </tr>\n",
       "        <tr>\n",
       "            <td>50556</td>\n",
       "            <td>13602333</td>\n",
       "            <td>JH434060</td>\n",
       "            <td>09/14/2024 11:00:00 PM</td>\n",
       "            <td>033XX W 57TH ST</td>\n",
       "            <td>1792</td>\n",
       "            <td>KIDNAPPING</td>\n",
       "            <td>CHILD ABDUCTION / STRANGER</td>\n",
       "            <td>STREET</td>\n",
       "            <td>0</td>\n",
       "            <td>0</td>\n",
       "            <td>822</td>\n",
       "            <td>8.0</td>\n",
       "            <td>14.0</td>\n",
       "            <td>63.0</td>\n",
       "            <td>26</td>\n",
       "            <td>1155271.0</td>\n",
       "            <td>1866632.0</td>\n",
       "            <td>2024</td>\n",
       "            <td>09/22/2024 03:41:42 PM</td>\n",
       "            <td>41.789839984</td>\n",
       "            <td>-87.706207195</td>\n",
       "            <td>(41.789839984, -87.706207195)</td>\n",
       "        </tr>\n",
       "        <tr>\n",
       "            <td>73229</td>\n",
       "            <td>13268180</td>\n",
       "            <td>JG493758</td>\n",
       "            <td>11/06/2023 01:08:00 PM</td>\n",
       "            <td>067XX S PULASKI RD</td>\n",
       "            <td>1792</td>\n",
       "            <td>KIDNAPPING</td>\n",
       "            <td>CHILD ABDUCTION / STRANGER</td>\n",
       "            <td>RESTAURANT</td>\n",
       "            <td>0</td>\n",
       "            <td>0</td>\n",
       "            <td>833</td>\n",
       "            <td>8.0</td>\n",
       "            <td>23.0</td>\n",
       "            <td>65.0</td>\n",
       "            <td>26</td>\n",
       "            <td>1150866.0</td>\n",
       "            <td>1859440.0</td>\n",
       "            <td>2023</td>\n",
       "            <td>11/14/2023 03:42:12 PM</td>\n",
       "            <td>41.770191042</td>\n",
       "            <td>-87.722546543</td>\n",
       "            <td>(41.770191042, -87.722546543)</td>\n",
       "        </tr>\n",
       "    </tbody>\n",
       "</table>"
      ],
      "text/plain": [
       "[(3313, 13204305, 'JG416635', '09/08/2023 04:50:00 PM', '078XX S VERNON AVE', '1792', 'KIDNAPPING', 'CHILD ABDUCTION / STRANGER', 'STREET', 0, 0, 624, 6.0, 6.0, 69.0, '26', 1180599.0, 1853225.0, 2023, '09/16/2023 03:42:58 PM', 41.752505303, -87.613748496, '(41.752505303, -87.613748496)'),\n",
       " (24338, 13229965, 'JG447224', '09/11/2023 03:30:00 PM', '002XX E 44TH ST', '1792', 'KIDNAPPING', 'CHILD ABDUCTION / STRANGER', 'SIDEWALK', 0, 0, 215, 2.0, 3.0, 38.0, '26', 1178445.0, 1875893.0, 2023, '10/04/2023 03:41:32 PM', 41.814757721, -87.620953719, '(41.814757721, -87.620953719)'),\n",
       " (48012, 13596650, 'JH427406', '09/13/2024 03:34:00 PM', '112XX S ADA ST', '1792', 'KIDNAPPING', 'CHILD ABDUCTION / STRANGER', 'PARK PROPERTY', 0, 0, 2234, 22.0, 21.0, 75.0, '26', 1169344.0, 1830008.0, 2024, '09/27/2024 03:40:30 PM', 41.689045293, -87.655662965, '(41.689045293, -87.655662965)'),\n",
       " (50556, 13602333, 'JH434060', '09/14/2024 11:00:00 PM', '033XX W 57TH ST', '1792', 'KIDNAPPING', 'CHILD ABDUCTION / STRANGER', 'STREET', 0, 0, 822, 8.0, 14.0, 63.0, '26', 1155271.0, 1866632.0, 2024, '09/22/2024 03:41:42 PM', 41.789839984, -87.706207195, '(41.789839984, -87.706207195)'),\n",
       " (73229, 13268180, 'JG493758', '11/06/2023 01:08:00 PM', '067XX S PULASKI RD', '1792', 'KIDNAPPING', 'CHILD ABDUCTION / STRANGER', 'RESTAURANT', 0, 0, 833, 8.0, 23.0, 65.0, '26', 1150866.0, 1859440.0, 2023, '11/14/2023 03:42:12 PM', 41.770191042, -87.722546543, '(41.770191042, -87.722546543)')]"
      ]
     },
     "execution_count": 23,
     "metadata": {},
     "output_type": "execute_result"
    }
   ],
   "source": [
    "%%sql\n",
    "\n",
    "SELECT *\n",
    "FROM Chicago_Crime_table\n",
    "WHERE \"Primary Type\" = 'KIDNAPPING' AND \"Description\" LIKE \"%CHILD%\"\n",
    "LIMIT 5"
   ]
  },
  {
   "cell_type": "markdown",
   "metadata": {},
   "source": [
    "#Remove LIMIT 5 TO LIST ALL"
   ]
  },
  {
   "cell_type": "markdown",
   "metadata": {},
   "source": [
    "Problem 5: What kind of crimes were recorded at schools?"
   ]
  },
  {
   "cell_type": "code",
   "execution_count": 24,
   "metadata": {},
   "outputs": [
    {
     "name": "stdout",
     "output_type": "stream",
     "text": [
      " * sqlite:///Assignment.db\n",
      "Done.\n"
     ]
    },
    {
     "data": {
      "text/html": [
       "<table>\n",
       "    <thead>\n",
       "        <tr>\n",
       "            <th>Primary Type</th>\n",
       "        </tr>\n",
       "    </thead>\n",
       "    <tbody>\n",
       "        <tr>\n",
       "            <td>CRIMINAL DAMAGE</td>\n",
       "        </tr>\n",
       "        <tr>\n",
       "            <td>BATTERY</td>\n",
       "        </tr>\n",
       "        <tr>\n",
       "            <td>ASSAULT</td>\n",
       "        </tr>\n",
       "        <tr>\n",
       "            <td>OFFENSE INVOLVING CHILDREN</td>\n",
       "        </tr>\n",
       "        <tr>\n",
       "            <td>THEFT</td>\n",
       "        </tr>\n",
       "        <tr>\n",
       "            <td>SEX OFFENSE</td>\n",
       "        </tr>\n",
       "        <tr>\n",
       "            <td>OTHER OFFENSE</td>\n",
       "        </tr>\n",
       "        <tr>\n",
       "            <td>MOTOR VEHICLE THEFT</td>\n",
       "        </tr>\n",
       "        <tr>\n",
       "            <td>ROBBERY</td>\n",
       "        </tr>\n",
       "        <tr>\n",
       "            <td>BURGLARY</td>\n",
       "        </tr>\n",
       "        <tr>\n",
       "            <td>WEAPONS VIOLATION</td>\n",
       "        </tr>\n",
       "        <tr>\n",
       "            <td>PUBLIC PEACE VIOLATION</td>\n",
       "        </tr>\n",
       "        <tr>\n",
       "            <td>NARCOTICS</td>\n",
       "        </tr>\n",
       "        <tr>\n",
       "            <td>CRIMINAL SEXUAL ASSAULT</td>\n",
       "        </tr>\n",
       "        <tr>\n",
       "            <td>STALKING</td>\n",
       "        </tr>\n",
       "        <tr>\n",
       "            <td>CRIMINAL TRESPASS</td>\n",
       "        </tr>\n",
       "        <tr>\n",
       "            <td>DECEPTIVE PRACTICE</td>\n",
       "        </tr>\n",
       "        <tr>\n",
       "            <td>ARSON</td>\n",
       "        </tr>\n",
       "        <tr>\n",
       "            <td>INTIMIDATION</td>\n",
       "        </tr>\n",
       "        <tr>\n",
       "            <td>OBSCENITY</td>\n",
       "        </tr>\n",
       "        <tr>\n",
       "            <td>KIDNAPPING</td>\n",
       "        </tr>\n",
       "        <tr>\n",
       "            <td>HOMICIDE</td>\n",
       "        </tr>\n",
       "        <tr>\n",
       "            <td>INTERFERENCE WITH PUBLIC OFFICER</td>\n",
       "        </tr>\n",
       "        <tr>\n",
       "            <td>LIQUOR LAW VIOLATION</td>\n",
       "        </tr>\n",
       "        <tr>\n",
       "            <td>GAMBLING</td>\n",
       "        </tr>\n",
       "        <tr>\n",
       "            <td>CRIM SEXUAL ASSAULT</td>\n",
       "        </tr>\n",
       "        <tr>\n",
       "            <td>PROSTITUTION</td>\n",
       "        </tr>\n",
       "        <tr>\n",
       "            <td>RITUALISM</td>\n",
       "        </tr>\n",
       "        <tr>\n",
       "            <td>OTHER NARCOTIC VIOLATION</td>\n",
       "        </tr>\n",
       "        <tr>\n",
       "            <td>PUBLIC INDECENCY</td>\n",
       "        </tr>\n",
       "        <tr>\n",
       "            <td>HUMAN TRAFFICKING</td>\n",
       "        </tr>\n",
       "        <tr>\n",
       "            <td>CONCEALED CARRY LICENSE VIOLATION</td>\n",
       "        </tr>\n",
       "    </tbody>\n",
       "</table>"
      ],
      "text/plain": [
       "[('CRIMINAL DAMAGE',),\n",
       " ('BATTERY',),\n",
       " ('ASSAULT',),\n",
       " ('OFFENSE INVOLVING CHILDREN',),\n",
       " ('THEFT',),\n",
       " ('SEX OFFENSE',),\n",
       " ('OTHER OFFENSE',),\n",
       " ('MOTOR VEHICLE THEFT',),\n",
       " ('ROBBERY',),\n",
       " ('BURGLARY',),\n",
       " ('WEAPONS VIOLATION',),\n",
       " ('PUBLIC PEACE VIOLATION',),\n",
       " ('NARCOTICS',),\n",
       " ('CRIMINAL SEXUAL ASSAULT',),\n",
       " ('STALKING',),\n",
       " ('CRIMINAL TRESPASS',),\n",
       " ('DECEPTIVE PRACTICE',),\n",
       " ('ARSON',),\n",
       " ('INTIMIDATION',),\n",
       " ('OBSCENITY',),\n",
       " ('KIDNAPPING',),\n",
       " ('HOMICIDE',),\n",
       " ('INTERFERENCE WITH PUBLIC OFFICER',),\n",
       " ('LIQUOR LAW VIOLATION',),\n",
       " ('GAMBLING',),\n",
       " ('CRIM SEXUAL ASSAULT',),\n",
       " ('PROSTITUTION',),\n",
       " ('RITUALISM',),\n",
       " ('OTHER NARCOTIC VIOLATION',),\n",
       " ('PUBLIC INDECENCY',),\n",
       " ('HUMAN TRAFFICKING',),\n",
       " ('CONCEALED CARRY LICENSE VIOLATION',)]"
      ]
     },
     "execution_count": 24,
     "metadata": {},
     "output_type": "execute_result"
    }
   ],
   "source": [
    "%%sql\n",
    "\n",
    "SELECT DISTINCT \"Primary Type\"\n",
    "FROM Chicago_Crime_table\n",
    "WHERE \"Location Description\" LIKE '%SCHOOL%'"
   ]
  },
  {
   "cell_type": "markdown",
   "metadata": {},
   "source": [
    "Problem 8: Which community area(number) is most crime prone?"
   ]
  },
  {
   "cell_type": "code",
   "execution_count": 25,
   "metadata": {},
   "outputs": [
    {
     "name": "stdout",
     "output_type": "stream",
     "text": [
      " * sqlite:///Assignment.db\n",
      "Done.\n"
     ]
    },
    {
     "data": {
      "text/html": [
       "<table>\n",
       "    <thead>\n",
       "        <tr>\n",
       "            <th>Community Area</th>\n",
       "            <th>Crime Count</th>\n",
       "        </tr>\n",
       "    </thead>\n",
       "    <tbody>\n",
       "        <tr>\n",
       "            <td>25.0</td>\n",
       "            <td>467440</td>\n",
       "        </tr>\n",
       "        <tr>\n",
       "            <td>8.0</td>\n",
       "            <td>269740</td>\n",
       "        </tr>\n",
       "        <tr>\n",
       "            <td>43.0</td>\n",
       "            <td>249284</td>\n",
       "        </tr>\n",
       "        <tr>\n",
       "            <td>23.0</td>\n",
       "            <td>234675</td>\n",
       "        </tr>\n",
       "        <tr>\n",
       "            <td>28.0</td>\n",
       "            <td>232980</td>\n",
       "        </tr>\n",
       "        <tr>\n",
       "            <td>24.0</td>\n",
       "            <td>222184</td>\n",
       "        </tr>\n",
       "        <tr>\n",
       "            <td>29.0</td>\n",
       "            <td>220199</td>\n",
       "        </tr>\n",
       "        <tr>\n",
       "            <td>71.0</td>\n",
       "            <td>213329</td>\n",
       "        </tr>\n",
       "        <tr>\n",
       "            <td>67.0</td>\n",
       "            <td>212151</td>\n",
       "        </tr>\n",
       "        <tr>\n",
       "            <td>49.0</td>\n",
       "            <td>199472</td>\n",
       "        </tr>\n",
       "    </tbody>\n",
       "</table>"
      ],
      "text/plain": [
       "[(25.0, 467440),\n",
       " (8.0, 269740),\n",
       " (43.0, 249284),\n",
       " (23.0, 234675),\n",
       " (28.0, 232980),\n",
       " (24.0, 222184),\n",
       " (29.0, 220199),\n",
       " (71.0, 213329),\n",
       " (67.0, 212151),\n",
       " (49.0, 199472)]"
      ]
     },
     "execution_count": 25,
     "metadata": {},
     "output_type": "execute_result"
    }
   ],
   "source": [
    "%%sql\n",
    "\n",
    "SELECT \"Community Area\", COUNT(*) AS \"Crime Count\"\n",
    "FROM Chicago_Crime_table\n",
    "WHERE \"Community Area\" IS NOT NULL\n",
    "GROUP BY \"Community Area\"\n",
    "ORDER BY \"Crime Count\" DESC\n",
    "LIMIT 10;"
   ]
  },
  {
   "cell_type": "markdown",
   "metadata": {},
   "source": [
    "Problem 10: Use a sub-query to determine the Community Area Name with most number of crimes?"
   ]
  },
  {
   "cell_type": "code",
   "execution_count": 26,
   "metadata": {},
   "outputs": [
    {
     "name": "stdout",
     "output_type": "stream",
     "text": [
      " * sqlite:///Assignment.db\n",
      "Done.\n"
     ]
    },
    {
     "data": {
      "text/html": [
       "<table>\n",
       "    <thead>\n",
       "        <tr>\n",
       "            <th>Community Area</th>\n",
       "        </tr>\n",
       "    </thead>\n",
       "    <tbody>\n",
       "        <tr>\n",
       "            <td>25.0</td>\n",
       "        </tr>\n",
       "    </tbody>\n",
       "</table>"
      ],
      "text/plain": [
       "[(25.0,)]"
      ]
     },
     "execution_count": 26,
     "metadata": {},
     "output_type": "execute_result"
    }
   ],
   "source": [
    "%%sql\n",
    "\n",
    "SELECT `Community Area`\n",
    "FROM (\n",
    "    SELECT `Community Area`, COUNT(*) as crime_count\n",
    "    FROM Chicago_Crime_table\n",
    "    WHERE `Community Area` IS NOT NULL\n",
    "    GROUP BY `Community Area`\n",
    ") subquery\n",
    "WHERE crime_count = (\n",
    "    SELECT MAX(crime_count)\n",
    "    FROM (\n",
    "        SELECT COUNT(*) as crime_count\n",
    "        FROM Chicago_Crime_table\n",
    "        WHERE `Community Area` IS NOT NULL\n",
    "        GROUP BY `Community Area`\n",
    "    ) inner_subquery\n",
    ");\n"
   ]
  },
  {
   "cell_type": "markdown",
   "metadata": {},
   "source": [
    "# Indicators Data Set (Problem 2, 7, 9,)"
   ]
  },
  {
   "cell_type": "code",
   "execution_count": 27,
   "metadata": {},
   "outputs": [],
   "source": [
    "df = pd.read_csv('Census_data.csv')"
   ]
  },
  {
   "cell_type": "code",
   "execution_count": 28,
   "metadata": {},
   "outputs": [
    {
     "data": {
      "text/plain": [
       "78"
      ]
     },
     "execution_count": 28,
     "metadata": {},
     "output_type": "execute_result"
    }
   ],
   "source": [
    "df.to_sql(\"df2_table\", con = conn, if_exists= 'replace')"
   ]
  },
  {
   "cell_type": "markdown",
   "metadata": {},
   "source": [
    "Problem 2: List community areas with per capita income less than 11000."
   ]
  },
  {
   "cell_type": "code",
   "execution_count": 29,
   "metadata": {},
   "outputs": [
    {
     "name": "stdout",
     "output_type": "stream",
     "text": [
      " * sqlite:///Assignment.db\n",
      "Done.\n"
     ]
    },
    {
     "data": {
      "text/html": [
       "<table>\n",
       "    <thead>\n",
       "        <tr>\n",
       "            <th>COMMUNITY AREA NAME</th>\n",
       "        </tr>\n",
       "    </thead>\n",
       "    <tbody>\n",
       "        <tr>\n",
       "            <td>West Garfield Park</td>\n",
       "        </tr>\n",
       "        <tr>\n",
       "            <td>South Lawndale</td>\n",
       "        </tr>\n",
       "        <tr>\n",
       "            <td>Fuller Park</td>\n",
       "        </tr>\n",
       "        <tr>\n",
       "            <td>Riverdale</td>\n",
       "        </tr>\n",
       "    </tbody>\n",
       "</table>"
      ],
      "text/plain": [
       "[('West Garfield Park',),\n",
       " ('South Lawndale',),\n",
       " ('Fuller Park',),\n",
       " ('Riverdale',)]"
      ]
     },
     "execution_count": 29,
     "metadata": {},
     "output_type": "execute_result"
    }
   ],
   "source": [
    "%%sql\n",
    "\n",
    "SELECT \"COMMUNITY AREA NAME\"\n",
    "FROM df2_table\n",
    "WHERE \"PER CAPITA INCOME \" < 11000"
   ]
  },
  {
   "cell_type": "markdown",
   "metadata": {},
   "source": [
    "Problem 7: List 5 community areas with highest % of households below poverty line."
   ]
  },
  {
   "cell_type": "code",
   "execution_count": 30,
   "metadata": {},
   "outputs": [
    {
     "name": "stdout",
     "output_type": "stream",
     "text": [
      " * sqlite:///Assignment.db\n",
      "Done.\n"
     ]
    },
    {
     "data": {
      "text/html": [
       "<table>\n",
       "    <thead>\n",
       "        <tr>\n",
       "            <th>COMMUNITY AREA NAME</th>\n",
       "            <th>PERCENT HOUSEHOLDS BELOW POVERTY</th>\n",
       "        </tr>\n",
       "    </thead>\n",
       "    <tbody>\n",
       "        <tr>\n",
       "            <td>Riverdale</td>\n",
       "            <td>56.5</td>\n",
       "        </tr>\n",
       "        <tr>\n",
       "            <td>Fuller Park</td>\n",
       "            <td>51.2</td>\n",
       "        </tr>\n",
       "        <tr>\n",
       "            <td>Englewood</td>\n",
       "            <td>46.6</td>\n",
       "        </tr>\n",
       "        <tr>\n",
       "            <td>North Lawndale</td>\n",
       "            <td>43.1</td>\n",
       "        </tr>\n",
       "        <tr>\n",
       "            <td>East Garfield Park</td>\n",
       "            <td>42.4</td>\n",
       "        </tr>\n",
       "    </tbody>\n",
       "</table>"
      ],
      "text/plain": [
       "[('Riverdale', 56.5),\n",
       " ('Fuller Park', 51.2),\n",
       " ('Englewood', 46.6),\n",
       " ('North Lawndale', 43.1),\n",
       " ('East Garfield Park', 42.4)]"
      ]
     },
     "execution_count": 30,
     "metadata": {},
     "output_type": "execute_result"
    }
   ],
   "source": [
    "%%sql\n",
    "\n",
    "SELECT \"COMMUNITY AREA NAME\", \"PERCENT HOUSEHOLDS BELOW POVERTY\"\n",
    "FROM df2_table\n",
    "ORDER BY \"PERCENT HOUSEHOLDS BELOW POVERTY\" DESC\n",
    "LIMIT 5"
   ]
  },
  {
   "cell_type": "markdown",
   "metadata": {},
   "source": [
    "Problem 9: Use a sub-query to find the name of the community area with highest hardship index."
   ]
  },
  {
   "cell_type": "code",
   "execution_count": 31,
   "metadata": {},
   "outputs": [
    {
     "name": "stdout",
     "output_type": "stream",
     "text": [
      " * sqlite:///Assignment.db\n",
      "Done.\n"
     ]
    },
    {
     "data": {
      "text/html": [
       "<table>\n",
       "    <thead>\n",
       "        <tr>\n",
       "            <th>COMMUNITY AREA NAME</th>\n",
       "        </tr>\n",
       "    </thead>\n",
       "    <tbody>\n",
       "        <tr>\n",
       "            <td>Riverdale</td>\n",
       "        </tr>\n",
       "    </tbody>\n",
       "</table>"
      ],
      "text/plain": [
       "[('Riverdale',)]"
      ]
     },
     "execution_count": 31,
     "metadata": {},
     "output_type": "execute_result"
    }
   ],
   "source": [
    "%%sql\n",
    "\n",
    "SELECT \"COMMUNITY AREA NAME\"\n",
    "FROM df2_table\n",
    "WHERE \"HARDSHIP INDEX\" = (SELECT MAX(\"HARDSHIP INDEX\") FROM df2_table)"
   ]
  },
  {
   "cell_type": "markdown",
   "metadata": {},
   "source": [
    "# Public School Data Set (Problem 6) "
   ]
  },
  {
   "cell_type": "code",
   "execution_count": 32,
   "metadata": {},
   "outputs": [],
   "source": [
    "df = pd.read_csv(\"SY2223.csv\")"
   ]
  },
  {
   "cell_type": "code",
   "execution_count": 33,
   "metadata": {},
   "outputs": [
    {
     "data": {
      "text/plain": [
       "651"
      ]
     },
     "execution_count": 33,
     "metadata": {},
     "output_type": "execute_result"
    }
   ],
   "source": [
    "df.to_sql(\"SY2223\", con = conn, if_exists= 'replace')"
   ]
  },
  {
   "cell_type": "markdown",
   "metadata": {},
   "source": [
    "Problem 6: List the average safety score for all types of schools."
   ]
  },
  {
   "cell_type": "code",
   "execution_count": 34,
   "metadata": {},
   "outputs": [
    {
     "name": "stdout",
     "output_type": "stream",
     "text": [
      " * sqlite:///Assignment.db\n",
      "Done.\n"
     ]
    },
    {
     "data": {
      "text/html": [
       "<table>\n",
       "    <thead>\n",
       "        <tr>\n",
       "            <th>School_Survey_Safety</th>\n",
       "        </tr>\n",
       "    </thead>\n",
       "    <tbody>\n",
       "        <tr>\n",
       "            <td>NEUTRAL</td>\n",
       "        </tr>\n",
       "        <tr>\n",
       "            <td>WEAK</td>\n",
       "        </tr>\n",
       "        <tr>\n",
       "            <td>NOT ENOUGH DATA</td>\n",
       "        </tr>\n",
       "        <tr>\n",
       "            <td>STRONG</td>\n",
       "        </tr>\n",
       "        <tr>\n",
       "            <td>VERY WEAK</td>\n",
       "        </tr>\n",
       "        <tr>\n",
       "            <td>VERY STRONG</td>\n",
       "        </tr>\n",
       "        <tr>\n",
       "            <td>None</td>\n",
       "        </tr>\n",
       "    </tbody>\n",
       "</table>"
      ],
      "text/plain": [
       "[('NEUTRAL',),\n",
       " ('WEAK',),\n",
       " ('NOT ENOUGH DATA',),\n",
       " ('STRONG',),\n",
       " ('VERY WEAK',),\n",
       " ('VERY STRONG',),\n",
       " (None,)]"
      ]
     },
     "execution_count": 34,
     "metadata": {},
     "output_type": "execute_result"
    }
   ],
   "source": [
    "%%sql\n",
    "\n",
    "SELECT DISTINCT School_Survey_Safety\n",
    "FROM SY2223;"
   ]
  },
  {
   "cell_type": "code",
   "execution_count": 35,
   "metadata": {},
   "outputs": [
    {
     "name": "stdout",
     "output_type": "stream",
     "text": [
      " * sqlite:///Assignment.db\n",
      "Done.\n"
     ]
    },
    {
     "data": {
      "text/html": [
       "<table>\n",
       "    <thead>\n",
       "        <tr>\n",
       "            <th>School_Type</th>\n",
       "            <th>avg_safety_score</th>\n",
       "        </tr>\n",
       "    </thead>\n",
       "    <tbody>\n",
       "        <tr>\n",
       "            <td>Regional gifted center</td>\n",
       "            <td>6.4</td>\n",
       "        </tr>\n",
       "        <tr>\n",
       "            <td>Classical</td>\n",
       "            <td>6.333333333333333</td>\n",
       "        </tr>\n",
       "        <tr>\n",
       "            <td>Special Education</td>\n",
       "            <td>5.625</td>\n",
       "        </tr>\n",
       "        <tr>\n",
       "            <td>Virtual</td>\n",
       "            <td>5.0</td>\n",
       "        </tr>\n",
       "        <tr>\n",
       "            <td>Citywide-Option</td>\n",
       "            <td>5.0</td>\n",
       "        </tr>\n",
       "        <tr>\n",
       "            <td>None</td>\n",
       "            <td>5.0</td>\n",
       "        </tr>\n",
       "        <tr>\n",
       "            <td>Magnet</td>\n",
       "            <td>4.906976744186046</td>\n",
       "        </tr>\n",
       "        <tr>\n",
       "            <td>Selective enrollment</td>\n",
       "            <td>4.818181818181818</td>\n",
       "        </tr>\n",
       "        <tr>\n",
       "            <td>Neighborhood</td>\n",
       "            <td>4.7707808564231735</td>\n",
       "        </tr>\n",
       "        <tr>\n",
       "            <td>Small</td>\n",
       "            <td>4.6</td>\n",
       "        </tr>\n",
       "        <tr>\n",
       "            <td>Charter</td>\n",
       "            <td>4.254385964912281</td>\n",
       "        </tr>\n",
       "        <tr>\n",
       "            <td>Military academy</td>\n",
       "            <td>4.0</td>\n",
       "        </tr>\n",
       "        <tr>\n",
       "            <td>Contract</td>\n",
       "            <td>3.75</td>\n",
       "        </tr>\n",
       "        <tr>\n",
       "            <td>Career academy</td>\n",
       "            <td>2.5</td>\n",
       "        </tr>\n",
       "    </tbody>\n",
       "</table>"
      ],
      "text/plain": [
       "[('Regional gifted center', 6.4),\n",
       " ('Classical', 6.333333333333333),\n",
       " ('Special Education', 5.625),\n",
       " ('Virtual', 5.0),\n",
       " ('Citywide-Option', 5.0),\n",
       " (None, 5.0),\n",
       " ('Magnet', 4.906976744186046),\n",
       " ('Selective enrollment', 4.818181818181818),\n",
       " ('Neighborhood', 4.7707808564231735),\n",
       " ('Small', 4.6),\n",
       " ('Charter', 4.254385964912281),\n",
       " ('Military academy', 4.0),\n",
       " ('Contract', 3.75),\n",
       " ('Career academy', 2.5)]"
      ]
     },
     "execution_count": 35,
     "metadata": {},
     "output_type": "execute_result"
    }
   ],
   "source": [
    "%%sql\n",
    "\n",
    "-- Calculate average safety score for all school types\n",
    "SELECT School_Type, \n",
    "       AVG(\n",
    "           CASE \n",
    "               WHEN School_Survey_Safety = 'VERY STRONG' THEN 10\n",
    "               WHEN School_Survey_Safety = 'STRONG' THEN 8\n",
    "               WHEN School_Survey_Safety = 'NEUTRAL' THEN 5\n",
    "               WHEN School_Survey_Safety = 'WEAK' THEN 4\n",
    "               WHEN School_Survey_Safety = 'VERY WEAK' THEN 2\n",
    "               WHEN School_Survey_Safety = 'NOT ENOUGH DATA' THEN 5\n",
    "               ELSE 0 -- In case there is None or unexpected values\n",
    "           END\n",
    "       ) AS avg_safety_score\n",
    "FROM SY2223\n",
    "GROUP BY School_Type\n",
    "ORDER BY avg_safety_score DESC; \n",
    " "
   ]
  },
  {
   "cell_type": "code",
   "execution_count": null,
   "metadata": {},
   "outputs": [],
   "source": []
  }
 ],
 "metadata": {
  "kernelspec": {
   "display_name": "base",
   "language": "python",
   "name": "python3"
  },
  "language_info": {
   "codemirror_mode": {
    "name": "ipython",
    "version": 3
   },
   "file_extension": ".py",
   "mimetype": "text/x-python",
   "name": "python",
   "nbconvert_exporter": "python",
   "pygments_lexer": "ipython3",
   "version": "3.12.4"
  }
 },
 "nbformat": 4,
 "nbformat_minor": 2
}
